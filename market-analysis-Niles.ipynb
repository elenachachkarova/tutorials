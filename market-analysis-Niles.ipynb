{
 "cells": [
  {
   "cell_type": "markdown",
   "metadata": {},
   "source": [
    "# Market Analysis"
   ]
  },
  {
   "cell_type": "markdown",
   "metadata": {},
   "source": [
    "**Loading all libraries**"
   ]
  },
  {
   "cell_type": "code",
   "execution_count": 53,
   "metadata": {},
   "outputs": [],
   "source": [
    "# libraries for utility\n",
    "import pandas as pd\n",
    "import numpy as np\n",
    "import math\n",
    "import datetime\n",
    "import json\n",
    "\n",
    "# libraries for display and plotting\n",
    "from pandas.plotting import scatter_matrix\n",
    "import matplotlib.pyplot as plt\n",
    "from matplotlib.pyplot import figure\n",
    "\n",
    "# libraries for data providers\n",
    "import yfinance as yf\n",
    "import requests\n",
    "import asyncio\n",
    "import websockets\n",
    "\n",
    "# libraries for statistics\n",
    "from scipy.stats import pearsonr \n",
    "from sklearn.linear_model import LinearRegression"
   ]
  },
  {
   "cell_type": "code",
   "execution_count": 54,
   "metadata": {},
   "outputs": [],
   "source": [
    "def running_mean(arr):\n",
    "    running_mean = []\n",
    "    for idx, num in enumerate(arr):\n",
    "        running_mean.append((np.sum(arr[0:idx])+num)/(idx+1))\n",
    "    return running_mean"
   ]
  },
  {
   "cell_type": "markdown",
   "metadata": {},
   "source": [
    "**1.2 Yahoo Finance - Data download**"
   ]
  },
  {
   "cell_type": "code",
   "execution_count": 55,
   "metadata": {},
   "outputs": [],
   "source": [
    "from_date = '2020-08-11'"
   ]
  },
  {
   "cell_type": "code",
   "execution_count": 56,
   "metadata": {},
   "outputs": [
    {
     "name": "stdout",
     "output_type": "stream",
     "text": [
      "[*********************100%***********************]  1 of 1 completed\n"
     ]
    }
   ],
   "source": [
    "yahoo_bit = yf.download('BTC-USD', from_date)"
   ]
  },
  {
   "cell_type": "code",
   "execution_count": 57,
   "metadata": {},
   "outputs": [
    {
     "name": "stdout",
     "output_type": "stream",
     "text": [
      "[*********************100%***********************]  1 of 1 completed\n"
     ]
    }
   ],
   "source": [
    "yahoo_serum = yf.download('SRM-USD', from_date)"
   ]
  },
  {
   "cell_type": "code",
   "execution_count": 58,
   "metadata": {},
   "outputs": [
    {
     "name": "stdout",
     "output_type": "stream",
     "text": [
      "[*********************100%***********************]  1 of 1 completed\n"
     ]
    }
   ],
   "source": [
    "yahoo_eth = yf.download('ETH-USD', from_date)"
   ]
  },
  {
   "cell_type": "code",
   "execution_count": 59,
   "metadata": {},
   "outputs": [
    {
     "name": "stdout",
     "output_type": "stream",
     "text": [
      "[*********************100%***********************]  1 of 1 completed\n"
     ]
    }
   ],
   "source": [
    "yahoo_snp = yf.download('^GSPC', from_date)"
   ]
  },
  {
   "cell_type": "code",
   "execution_count": 60,
   "metadata": {},
   "outputs": [
    {
     "name": "stdout",
     "output_type": "stream",
     "text": [
      "[*********************100%***********************]  1 of 1 completed\n"
     ]
    }
   ],
   "source": [
    "exchange_rate_USD_GBP = yf.download('GBP=X', from_date)"
   ]
  },
  {
   "cell_type": "markdown",
   "metadata": {},
   "source": [
    "Conclusion: Different prices against the different providers."
   ]
  },
  {
   "cell_type": "markdown",
   "metadata": {},
   "source": [
    "**2. Seasonality**"
   ]
  },
  {
   "cell_type": "markdown",
   "metadata": {},
   "source": [
    "**Calculating Correlation**"
   ]
  },
  {
   "cell_type": "code",
   "execution_count": 61,
   "metadata": {},
   "outputs": [],
   "source": [
    "def calc_perc_diff(a: list):\n",
    "    return [(x - a[i - 1])/a[i-1] for i, x in enumerate(a) if i > 0]"
   ]
  },
  {
   "cell_type": "markdown",
   "metadata": {},
   "source": [
    "Generate percentages series."
   ]
  },
  {
   "cell_type": "code",
   "execution_count": 62,
   "metadata": {},
   "outputs": [],
   "source": [
    "bit_perc = calc_perc_diff(yahoo_bit['Open'])"
   ]
  },
  {
   "cell_type": "code",
   "execution_count": 63,
   "metadata": {},
   "outputs": [],
   "source": [
    "serum_perc = calc_perc_diff(yahoo_serum['Open'])"
   ]
  },
  {
   "cell_type": "code",
   "execution_count": 64,
   "metadata": {},
   "outputs": [],
   "source": [
    "snp_perc = calc_perc_diff(yahoo_snp['Open'])"
   ]
  },
  {
   "cell_type": "code",
   "execution_count": 65,
   "metadata": {},
   "outputs": [],
   "source": [
    "eth_perc = calc_perc_diff(yahoo_eth['Open'])"
   ]
  },
  {
   "cell_type": "markdown",
   "metadata": {},
   "source": [
    "Bitcoin-Serum"
   ]
  },
  {
   "cell_type": "code",
   "execution_count": 66,
   "metadata": {},
   "outputs": [
    {
     "name": "stdout",
     "output_type": "stream",
     "text": [
      "Bitcoin correlation with Serum:  0.06178993330049724\n"
     ]
    }
   ],
   "source": [
    "print('Bitcoin correlation with Serum: ', np.corrcoef(bit_perc[-len(serum_perc):],serum_perc)[0][1])"
   ]
  },
  {
   "cell_type": "markdown",
   "metadata": {},
   "source": [
    "Bitcoin-S&P"
   ]
  },
  {
   "cell_type": "code",
   "execution_count": 67,
   "metadata": {},
   "outputs": [
    {
     "name": "stdout",
     "output_type": "stream",
     "text": [
      "Bitcoin correlation with SNP:  0.02413639951366378\n"
     ]
    }
   ],
   "source": [
    "print('Bitcoin correlation with SNP: ', np.corrcoef(bit_perc[-len(snp_perc):],snp_perc)[0][1])"
   ]
  },
  {
   "cell_type": "markdown",
   "metadata": {},
   "source": [
    "Serum-S&P"
   ]
  },
  {
   "cell_type": "code",
   "execution_count": 68,
   "metadata": {},
   "outputs": [
    {
     "name": "stdout",
     "output_type": "stream",
     "text": [
      "Serum correlation with SNP:  0.030378235353013698\n"
     ]
    }
   ],
   "source": [
    "print('Serum correlation with SNP: ', np.corrcoef(serum_perc[-len(snp_perc):],snp_perc)[0][1])"
   ]
  },
  {
   "cell_type": "markdown",
   "metadata": {},
   "source": [
    "Bitcoin-Ethereum"
   ]
  },
  {
   "cell_type": "code",
   "execution_count": 69,
   "metadata": {},
   "outputs": [
    {
     "name": "stdout",
     "output_type": "stream",
     "text": [
      "Bitcoin correlation with Ethereum:  0.8045918179831688\n"
     ]
    }
   ],
   "source": [
    "print('Bitcoin correlation with Ethereum: ', np.corrcoef(bit_perc,eth_perc)[0][1])"
   ]
  },
  {
   "cell_type": "markdown",
   "metadata": {},
   "source": [
    "Time frames of the correlation:"
   ]
  },
  {
   "cell_type": "markdown",
   "metadata": {},
   "source": [
    "1 year"
   ]
  },
  {
   "cell_type": "code",
   "execution_count": 70,
   "metadata": {},
   "outputs": [
    {
     "name": "stdout",
     "output_type": "stream",
     "text": [
      "Bitcoin correlation with Ethereum for 1 year window:  0.8829961974613466\n"
     ]
    }
   ],
   "source": [
    "print('Bitcoin correlation with Ethereum for 1 year window: ', np.corrcoef(bit_perc[-365:],eth_perc[-365:])[0][1])"
   ]
  },
  {
   "cell_type": "markdown",
   "metadata": {},
   "source": [
    "5 years"
   ]
  },
  {
   "cell_type": "code",
   "execution_count": 71,
   "metadata": {},
   "outputs": [
    {
     "name": "stdout",
     "output_type": "stream",
     "text": [
      "Bitcoin correlation with Ethereum for 1 year window:  0.8045918179831688\n"
     ]
    }
   ],
   "source": [
    "print('Bitcoin correlation with Ethereum for 1 year window: ', np.corrcoef(bit_perc[-365*5:],eth_perc[-365*5:])[0][1])"
   ]
  },
  {
   "cell_type": "code",
   "execution_count": 72,
   "metadata": {},
   "outputs": [
    {
     "data": {
      "text/plain": [
       "Text(0.5, 1.0, 'Bitcoin percentage returns')"
      ]
     },
     "execution_count": 72,
     "metadata": {},
     "output_type": "execute_result"
    },
    {
     "data": {
      "image/png": "[encoded data removed]",
      "text/plain": [
       "<Figure size 432x288 with 1 Axes>"
      ]
     },
     "metadata": {
      "needs_background": "light"
     },
     "output_type": "display_data"
    }
   ],
   "source": [
    "plt.plot(bit_perc)\n",
    "plt.title('Bitcoin percentage returns')"
   ]
  },
  {
   "cell_type": "code",
   "execution_count": 73,
   "metadata": {},
   "outputs": [
    {
     "data": {
      "image/png": "[encoded data removed]",
      "text/plain": [
       "<Figure size 432x288 with 1 Axes>"
      ]
     },
     "metadata": {
      "needs_background": "light"
     },
     "output_type": "display_data"
    }
   ],
   "source": [
    "fig, ax = plt.subplots()\n",
    "\n",
    "x=yahoo_bit['Open'].index[-365:]\n",
    "ax.plot_date(x,bit_perc[-365:],'-','b')\n",
    "ax.plot_date(x,eth_perc[-365:],'-','g')\n",
    "\n",
    "plt.title('Ethereium and Bitcoin returns 1 year window')\n",
    "plt.show()"
   ]
  },
  {
   "cell_type": "markdown",
   "metadata": {},
   "source": [
    "Weekly trends"
   ]
  },
  {
   "cell_type": "code",
   "execution_count": 74,
   "metadata": {},
   "outputs": [],
   "source": [
    "def weekly_trend(data_series):\n",
    "    monday=data_series[data_series.index.weekday == 0]['Open'].mean()\n",
    "    tuesday=data_series[data_series.index.weekday == 1]['Open'].mean()\n",
    "    wednesday=data_series[data_series.index.weekday == 2]['Open'].mean()\n",
    "    thursday=data_series[data_series.index.weekday == 3]['Open'].mean()\n",
    "    friday=data_series[data_series.index.weekday == 4]['Open'].mean()\n",
    "    saturday=data_series[data_series.index.weekday == 5]['Open'].mean()\n",
    "    sunday=data_series[data_series.index.weekday == 6]['Open'].mean()\n",
    "\n",
    "    series = [monday, tuesday, wednesday, thursday, friday, saturday, sunday]\n",
    "    total_average = sum(series)/len(series)\n",
    "\n",
    "    data = [[monday/total_average,tuesday/total_average, wednesday/total_average, thursday/total_average, friday/total_average, saturday/total_average, sunday/total_average]]\n",
    "    \n",
    "    return pd.DataFrame(data, columns=[\"Monday\", \"Tuesday\", \"Wednesday\", \"Thursday\", \"Friday\", \"Saturday\", \"Sunday\"], index =[\"Trend\"])\n",
    "\n",
    "\n",
    "def print_results(df):\n",
    "    display(df)\n",
    "    max_n = 0\n",
    "    col_max = \"Monday\"\n",
    "    min_n = 1000\n",
    "    col_min = \"Monday\"\n",
    "    \n",
    "    for col in df.columns:\n",
    "        if(df[col][0]>max_n):\n",
    "            max_n=df[col][0]\n",
    "            col_max = col\n",
    "        if(df[col][0]<min_n):\n",
    "            min_n=df[col][0]\n",
    "            col_min = col\n",
    "        \n",
    "        \n",
    "    print(\"Best day to buy: \", col_min)\n",
    "    print(\"Best day to sell: \",col_max)\n",
    "    return\n"
   ]
  },
  {
   "cell_type": "markdown",
   "metadata": {},
   "source": [
    "Bitcoin"
   ]
  },
  {
   "cell_type": "code",
   "execution_count": 75,
   "metadata": {},
   "outputs": [
    {
     "data": {
      "text/html": [
       "<div>\n",
       "<style scoped>\n",
       "    .dataframe tbody tr th:only-of-type {\n",
       "        vertical-align: middle;\n",
       "    }\n",
       "\n",
       "    .dataframe tbody tr th {\n",
       "        vertical-align: top;\n",
       "    }\n",
       "\n",
       "    .dataframe thead th {\n",
       "        text-align: right;\n",
       "    }\n",
       "</style>\n",
       "<table border=\"1\" class=\"dataframe\">\n",
       "  <thead>\n",
       "    <tr style=\"text-align: right;\">\n",
       "      <th></th>\n",
       "      <th>Monday</th>\n",
       "      <th>Tuesday</th>\n",
       "      <th>Wednesday</th>\n",
       "      <th>Thursday</th>\n",
       "      <th>Friday</th>\n",
       "      <th>Saturday</th>\n",
       "      <th>Sunday</th>\n",
       "    </tr>\n",
       "  </thead>\n",
       "  <tbody>\n",
       "    <tr>\n",
       "      <th>Trend</th>\n",
       "      <td>0.998389</td>\n",
       "      <td>0.998823</td>\n",
       "      <td>0.998837</td>\n",
       "      <td>1.00181</td>\n",
       "      <td>1.00008</td>\n",
       "      <td>1.00033</td>\n",
       "      <td>1.001731</td>\n",
       "    </tr>\n",
       "  </tbody>\n",
       "</table>\n",
       "</div>"
      ],
      "text/plain": [
       "         Monday   Tuesday  Wednesday  Thursday   Friday  Saturday    Sunday\n",
       "Trend  0.998389  0.998823   0.998837   1.00181  1.00008   1.00033  1.001731"
      ]
     },
     "metadata": {},
     "output_type": "display_data"
    },
    {
     "name": "stdout",
     "output_type": "stream",
     "text": [
      "Best day to buy:  Monday\n",
      "Best day to sell:  Thursday\n",
      "\n",
      "Percentage change won with this strategy:  0.3%\n",
      "Percentage change daily high/low:  4.7%\n"
     ]
    }
   ],
   "source": [
    "df = weekly_trend(yahoo_bit)\n",
    "print_results(df)\n",
    "max_n = df.max(axis=1)\n",
    "min_n = df.min(axis=1)\n",
    "perc = (max_n-min_n)/max_n\n",
    "print()\n",
    "print(\"Percentage change won with this strategy: \",\"{:.1%}\".format(float(perc)))\n",
    "print(\"Percentage change daily high/low: \",\"{:.1%}\".format(float(((yahoo_bit[\"High\"] - yahoo_bit[\"Low\"])/yahoo_bit[\"High\"]).mean())))"
   ]
  },
  {
   "cell_type": "markdown",
   "metadata": {},
   "source": [
    "Ethereum"
   ]
  },
  {
   "cell_type": "code",
   "execution_count": 34,
   "metadata": {},
   "outputs": [
    {
     "data": {
      "text/html": [
       "<div>\n",
       "<style scoped>\n",
       "    .dataframe tbody tr th:only-of-type {\n",
       "        vertical-align: middle;\n",
       "    }\n",
       "\n",
       "    .dataframe tbody tr th {\n",
       "        vertical-align: top;\n",
       "    }\n",
       "\n",
       "    .dataframe thead th {\n",
       "        text-align: right;\n",
       "    }\n",
       "</style>\n",
       "<table border=\"1\" class=\"dataframe\">\n",
       "  <thead>\n",
       "    <tr style=\"text-align: right;\">\n",
       "      <th></th>\n",
       "      <th>Monday</th>\n",
       "      <th>Tuesday</th>\n",
       "      <th>Wednesday</th>\n",
       "      <th>Thursday</th>\n",
       "      <th>Friday</th>\n",
       "      <th>Saturday</th>\n",
       "      <th>Sunday</th>\n",
       "    </tr>\n",
       "  </thead>\n",
       "  <tbody>\n",
       "    <tr>\n",
       "      <th>Trend</th>\n",
       "      <td>0.997401</td>\n",
       "      <td>0.998071</td>\n",
       "      <td>0.999857</td>\n",
       "      <td>1.004537</td>\n",
       "      <td>1.002167</td>\n",
       "      <td>0.997497</td>\n",
       "      <td>1.00047</td>\n",
       "    </tr>\n",
       "  </tbody>\n",
       "</table>\n",
       "</div>"
      ],
      "text/plain": [
       "         Monday   Tuesday  Wednesday  Thursday    Friday  Saturday   Sunday\n",
       "Trend  0.997401  0.998071   0.999857  1.004537  1.002167  0.997497  1.00047"
      ]
     },
     "metadata": {},
     "output_type": "display_data"
    },
    {
     "name": "stdout",
     "output_type": "stream",
     "text": [
      "Best day to buy:  Monday\n",
      "Best day to sell:  Thursday\n"
     ]
    }
   ],
   "source": [
    "print_results(weekly_trend(yahoo_eth))"
   ]
  },
  {
   "cell_type": "markdown",
   "metadata": {},
   "source": [
    "Serum"
   ]
  },
  {
   "cell_type": "code",
   "execution_count": 35,
   "metadata": {},
   "outputs": [
    {
     "data": {
      "text/html": [
       "<div>\n",
       "<style scoped>\n",
       "    .dataframe tbody tr th:only-of-type {\n",
       "        vertical-align: middle;\n",
       "    }\n",
       "\n",
       "    .dataframe tbody tr th {\n",
       "        vertical-align: top;\n",
       "    }\n",
       "\n",
       "    .dataframe thead th {\n",
       "        text-align: right;\n",
       "    }\n",
       "</style>\n",
       "<table border=\"1\" class=\"dataframe\">\n",
       "  <thead>\n",
       "    <tr style=\"text-align: right;\">\n",
       "      <th></th>\n",
       "      <th>Monday</th>\n",
       "      <th>Tuesday</th>\n",
       "      <th>Wednesday</th>\n",
       "      <th>Thursday</th>\n",
       "      <th>Friday</th>\n",
       "      <th>Saturday</th>\n",
       "      <th>Sunday</th>\n",
       "    </tr>\n",
       "  </thead>\n",
       "  <tbody>\n",
       "    <tr>\n",
       "      <th>Trend</th>\n",
       "      <td>1.012077</td>\n",
       "      <td>1.000906</td>\n",
       "      <td>0.996459</td>\n",
       "      <td>0.998702</td>\n",
       "      <td>0.99672</td>\n",
       "      <td>0.996002</td>\n",
       "      <td>0.999133</td>\n",
       "    </tr>\n",
       "  </tbody>\n",
       "</table>\n",
       "</div>"
      ],
      "text/plain": [
       "         Monday   Tuesday  Wednesday  Thursday   Friday  Saturday    Sunday\n",
       "Trend  1.012077  1.000906   0.996459  0.998702  0.99672  0.996002  0.999133"
      ]
     },
     "metadata": {},
     "output_type": "display_data"
    },
    {
     "name": "stdout",
     "output_type": "stream",
     "text": [
      "Best day to buy:  Saturday\n",
      "Best day to sell:  Monday\n"
     ]
    }
   ],
   "source": [
    "print_results(weekly_trend(yahoo_serum))"
   ]
  },
  {
   "cell_type": "markdown",
   "metadata": {},
   "source": [
    "1 Year window"
   ]
  },
  {
   "cell_type": "code",
   "execution_count": 36,
   "metadata": {},
   "outputs": [
    {
     "data": {
      "text/html": [
       "<div>\n",
       "<style scoped>\n",
       "    .dataframe tbody tr th:only-of-type {\n",
       "        vertical-align: middle;\n",
       "    }\n",
       "\n",
       "    .dataframe tbody tr th {\n",
       "        vertical-align: top;\n",
       "    }\n",
       "\n",
       "    .dataframe thead th {\n",
       "        text-align: right;\n",
       "    }\n",
       "</style>\n",
       "<table border=\"1\" class=\"dataframe\">\n",
       "  <thead>\n",
       "    <tr style=\"text-align: right;\">\n",
       "      <th></th>\n",
       "      <th>Monday</th>\n",
       "      <th>Tuesday</th>\n",
       "      <th>Wednesday</th>\n",
       "      <th>Thursday</th>\n",
       "      <th>Friday</th>\n",
       "      <th>Saturday</th>\n",
       "      <th>Sunday</th>\n",
       "    </tr>\n",
       "  </thead>\n",
       "  <tbody>\n",
       "    <tr>\n",
       "      <th>Trend</th>\n",
       "      <td>1.000435</td>\n",
       "      <td>0.99539</td>\n",
       "      <td>0.996404</td>\n",
       "      <td>1.007009</td>\n",
       "      <td>1.002166</td>\n",
       "      <td>0.999251</td>\n",
       "      <td>0.999345</td>\n",
       "    </tr>\n",
       "  </tbody>\n",
       "</table>\n",
       "</div>"
      ],
      "text/plain": [
       "         Monday  Tuesday  Wednesday  Thursday    Friday  Saturday    Sunday\n",
       "Trend  1.000435  0.99539   0.996404  1.007009  1.002166  0.999251  0.999345"
      ]
     },
     "metadata": {},
     "output_type": "display_data"
    },
    {
     "name": "stdout",
     "output_type": "stream",
     "text": [
      "Best day to buy:  Tuesday\n",
      "Best day to sell:  Thursday\n"
     ]
    }
   ],
   "source": [
    "print_results(weekly_trend(yahoo_bit[-365:]))"
   ]
  },
  {
   "cell_type": "code",
   "execution_count": 37,
   "metadata": {},
   "outputs": [
    {
     "data": {
      "text/html": [
       "<div>\n",
       "<style scoped>\n",
       "    .dataframe tbody tr th:only-of-type {\n",
       "        vertical-align: middle;\n",
       "    }\n",
       "\n",
       "    .dataframe tbody tr th {\n",
       "        vertical-align: top;\n",
       "    }\n",
       "\n",
       "    .dataframe thead th {\n",
       "        text-align: right;\n",
       "    }\n",
       "</style>\n",
       "<table border=\"1\" class=\"dataframe\">\n",
       "  <thead>\n",
       "    <tr style=\"text-align: right;\">\n",
       "      <th></th>\n",
       "      <th>Monday</th>\n",
       "      <th>Tuesday</th>\n",
       "      <th>Wednesday</th>\n",
       "      <th>Thursday</th>\n",
       "      <th>Friday</th>\n",
       "      <th>Saturday</th>\n",
       "      <th>Sunday</th>\n",
       "    </tr>\n",
       "  </thead>\n",
       "  <tbody>\n",
       "    <tr>\n",
       "      <th>Trend</th>\n",
       "      <td>0.999234</td>\n",
       "      <td>0.995342</td>\n",
       "      <td>0.994256</td>\n",
       "      <td>1.007412</td>\n",
       "      <td>1.003304</td>\n",
       "      <td>1.000175</td>\n",
       "      <td>1.000277</td>\n",
       "    </tr>\n",
       "  </tbody>\n",
       "</table>\n",
       "</div>"
      ],
      "text/plain": [
       "         Monday   Tuesday  Wednesday  Thursday    Friday  Saturday    Sunday\n",
       "Trend  0.999234  0.995342   0.994256  1.007412  1.003304  1.000175  1.000277"
      ]
     },
     "metadata": {},
     "output_type": "display_data"
    },
    {
     "name": "stdout",
     "output_type": "stream",
     "text": [
      "Best day to buy:  Wednesday\n",
      "Best day to sell:  Thursday\n"
     ]
    }
   ],
   "source": [
    "print_results(weekly_trend(yahoo_eth[-365:]))"
   ]
  },
  {
   "cell_type": "code",
   "execution_count": 38,
   "metadata": {},
   "outputs": [
    {
     "data": {
      "text/html": [
       "<div>\n",
       "<style scoped>\n",
       "    .dataframe tbody tr th:only-of-type {\n",
       "        vertical-align: middle;\n",
       "    }\n",
       "\n",
       "    .dataframe tbody tr th {\n",
       "        vertical-align: top;\n",
       "    }\n",
       "\n",
       "    .dataframe thead th {\n",
       "        text-align: right;\n",
       "    }\n",
       "</style>\n",
       "<table border=\"1\" class=\"dataframe\">\n",
       "  <thead>\n",
       "    <tr style=\"text-align: right;\">\n",
       "      <th></th>\n",
       "      <th>Monday</th>\n",
       "      <th>Tuesday</th>\n",
       "      <th>Wednesday</th>\n",
       "      <th>Thursday</th>\n",
       "      <th>Friday</th>\n",
       "      <th>Saturday</th>\n",
       "      <th>Sunday</th>\n",
       "    </tr>\n",
       "  </thead>\n",
       "  <tbody>\n",
       "    <tr>\n",
       "      <th>Trend</th>\n",
       "      <td>1.006486</td>\n",
       "      <td>0.993583</td>\n",
       "      <td>0.983911</td>\n",
       "      <td>1.000848</td>\n",
       "      <td>1.005639</td>\n",
       "      <td>0.997475</td>\n",
       "      <td>1.012059</td>\n",
       "    </tr>\n",
       "  </tbody>\n",
       "</table>\n",
       "</div>"
      ],
      "text/plain": [
       "         Monday   Tuesday  Wednesday  Thursday    Friday  Saturday    Sunday\n",
       "Trend  1.006486  0.993583   0.983911  1.000848  1.005639  0.997475  1.012059"
      ]
     },
     "metadata": {},
     "output_type": "display_data"
    },
    {
     "name": "stdout",
     "output_type": "stream",
     "text": [
      "Best day to buy:  Wednesday\n",
      "Best day to sell:  Sunday\n"
     ]
    }
   ],
   "source": [
    "print_results(weekly_trend(yahoo_serum[-365:]))"
   ]
  }
 ],
 "metadata": {
  "kernelspec": {
   "display_name": "Python 3 (ipykernel)",
   "language": "python",
   "name": "python3"
  },
  "language_info": {
   "codemirror_mode": {
    "name": "ipython",
    "version": 3
   },
   "file_extension": ".py",
   "mimetype": "text/x-python",
   "name": "python",
   "nbconvert_exporter": "python",
   "pygments_lexer": "ipython3",
   "version": "3.9.7"
  }
 },
 "nbformat": 4,
 "nbformat_minor": 4
}
